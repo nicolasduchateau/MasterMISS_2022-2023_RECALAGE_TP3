{
 "cells": [
  {
   "cell_type": "markdown",
   "metadata": {},
   "source": [
    "**Master MISS / FSR-MED / 2021-2022**\n",
    "\n",
    "**Content**: Nicolas Duchateau <br>\n",
    "\n",
    "***\n",
    "\n",
    "TP3: Evaluation de la qualité de recalage de séquences\n",
    "===\n",
    "\n",
    "### <span style=\"color:red\"> Pensez à répondre à **toutes les questions** de manière argumentée,\n",
    "    \n",
    "### <span style=\"color:red\"> Notebook à rendre complété **impérativement avant le 27/02/2022**,\n",
    "    \n",
    "### <span style=\"color:red\"> Vous pouvez répondre en anglais ou en français.\n",
    "\n",
    "***"
   ]
  },
  {
   "cell_type": "markdown",
   "metadata": {},
   "source": [
    "***\n",
    "\n",
    "# <span style=\"color:brown\"> **Avant de commencer: configuration**\n",
    " \n",
    "### <span style=\"color:red\"> Instruction: </span> Exécutez le code suivant pour importer les packages nécessaires à ce TP."
   ]
  },
  {
   "cell_type": "code",
   "execution_count": 5,
   "metadata": {},
   "outputs": [
    {
     "name": "stdout",
     "output_type": "stream",
     "text": [
      "['/mnt/DDlinux/Documents/CLASES/POLYTECH/MISS_REGISTRATION/2021-2022/TP/TP3_MISS_2021-2022_TODO', '/usr/lib64/python39.zip', '/usr/lib64/python3.9', '/usr/lib64/python3.9/lib-dynload', '', '/home/duchateau/.local/lib/python3.9/site-packages', '/usr/local/lib64/python3.9/site-packages', '/usr/local/lib/python3.9/site-packages', '/usr/lib64/python3.9/site-packages', '/usr/lib/python3.9/site-packages', '/usr/lib/python3.9/site-packages/IPython/extensions', '/home/duchateau/.ipython', '../']\n"
     ]
    }
   ],
   "source": [
    "import numpy as np\n",
    "import matplotlib.pyplot as plt\n",
    "import scipy.io as sio\n",
    "\n",
    "import sys\n",
    "# Add our own python modules stored in the folders present at the root level of this project\n",
    "if \"../\" in sys.path: \n",
    "    print(sys.path)\n",
    "else: \n",
    "    sys.path.append(\"../\")\n",
    "    print(sys.path)"
   ]
  },
  {
   "cell_type": "markdown",
   "metadata": {},
   "source": [
    "### <span style=\"color:red\"> Instruction: </span> Exécutez le code suivant UNIQUEMENT SI VOUS TRAVAILLEZ AVEC MYBINDER, pour importer le jeu de données et les animations."
   ]
  },
  {
   "cell_type": "code",
   "execution_count": 5,
   "metadata": {},
   "outputs": [
    {
     "name": "stdout",
     "output_type": "stream",
     "text": [
      "Defaulting to user installation because normal site-packages is not writeable\n",
      "Requirement already satisfied: wget in /home/duchateau/.local/lib/python3.9/site-packages (3.2)\n"
     ]
    }
   ],
   "source": [
    "### UNCOMMENT AND EXECUTE THESE LINES ONLY IF YOU'RE WORKING WITH MYBINDER\n",
    "import wget\n",
    "\n",
    "#wget.download(\"https://www.creatis.insa-lyon.fr/~duchateau/TP3_MISS_2021-2022_TODO/dataset/OUTPUT_READING.mat\",out=\"dataset\")\n",
    "\n",
    "wget.download(\"https://www.creatis.insa-lyon.fr/~duchateau/TP3_MISS_2021-2022_TODO/figures.zip\")\n",
    "\n",
    "import shutil\n",
    "\n",
    "shutil.unpack_archive(\"figures.zip\")"
   ]
  },
  {
   "cell_type": "markdown",
   "metadata": {},
   "source": [
    "***\n",
    "\n",
    "# <span style=\"color:brown\"> **Contexte**\n",
    "    \n",
    "Dans ce TP, on cherche à évaluer la qualité de différents recalages appliqués à une séquence d’images\n",
    "cardiaques. Ces recalages ont déjà été pré-calculés par l’algorithme des Demons (implémentation de *Lorenzi et al. LCC-Demons : a robust and accurate symmetric diffeomorphic registration algorithm. Neuroimage 2013;81:470-483.*).\n",
    "    \n",
    "Nous avons testé plusieurs stratégies et choix de paramètres, dont les résultats de ce recalage serviront de données d'entrée pour ce TP.\n",
    "    \n",
    "# <span style=\"color:brown\"> **Objectifs**\n",
    "\n",
    "On cherche à explorer différents points-de-vue sur les résultats du recalage pour **déterminer quelle méthode choisir.**\n",
    "\n",
    "Deux schémas de recalage ont été utilisés:\n",
    "    \n",
    "- [t → 0] (schéma `0t`): l’image à l’instant t est recalée sur celle à l’instant 0:\n",
    "    \n",
    "<img src=\"figures/FigureRegistration_0t.png\" style=\"width:500px;\"/>\n",
    "\n",
    "- [t → t − 1] (schéma `pairwise`): l’image à l’instant t est recalée sur celle à l’instant t − 1, et les champs de\n",
    "déplacement sont composés pour obtenir la transformation t → 0, qui est ensuite appliquée à\n",
    "l’image à l’instant t :\n",
    "\n",
    "<img src=\"figures/FigureRegistration_pairwise.png\" style=\"width:500px;\"/>\n",
    "\n",
    "Trois niveaux de régularisation ont été testés :\n",
    "* le champ de déplacement est regularisé sur 0.5 voxels (schéma `unsmooth`)\n",
    "* le champ de déplacement est regularisé sur 2 voxels (schéma `smooth`)\n",
    "* le champ de déplacement est regularisé sur 5 voxels (schéma `verysmooth`)"
   ]
  },
  {
   "cell_type": "markdown",
   "metadata": {},
   "source": [
    "***\n",
    "\n",
    "# <span style=\"color:brown\"> 1) Séquence originale\n"
   ]
  },
  {
   "cell_type": "markdown",
   "metadata": {},
   "source": [
    "## Q1.1 \n",
    "\n",
    "Les animations ci-dessous montrent la séquence originale en petit-axe (coupe à mi-hauteur du coeur) et en grand-axe (coupe passant par le milieu des deux ventricules):\n",
    "\n",
    "<table><tr>\n",
    "<td> Short-axis </td>\n",
    "<td> Long-axis </td>\n",
    "</tr>\n",
    "    <tr>\n",
    "<td> <img src=\"figures/Stack_SAX.gif\" style=\"heigth:400px;\"/> </td>\n",
    "<td> <img src=\"figures/Stack_LAX.gif\" style=\"heigth:400px;\"/> </td>\n",
    "</tr></table>\n",
    "\n",
    "### <span style=\"color:red\"> Question: </span> De quelle modalité d’imagerie sont issues ces images ?"
   ]
  },
  {
   "cell_type": "markdown",
   "metadata": {},
   "source": [
    "> TODO: your answer here."
   ]
  },
  {
   "cell_type": "markdown",
   "metadata": {},
   "source": [
    "## Q1.2\n",
    "\n",
    "Si l'on ouvre l'une des images (fichier au format `.vtk`) dans un éditeur de texte, on peut lire le `Header` qui précède les données de chaque pixel:\n",
    "\n",
    "<img src=\"figures/Header.png\" style=\"width:800px;\"/>\n",
    "\n",
    "### <span style=\"color:red\"> Questions: </span> \n",
    "\n",
    "- ### Quelle est la résolution de ces images?\n",
    "\n",
    "- ### S'agit-il d'une résolution isotrope? \n",
    "\n",
    "- ### Cela est-il cohérent avec la modalité d’imagerie dont les images sont issues? Est-ce cohérent avec ce que vous voyez dans les animations ci-dessus?"
   ]
  },
  {
   "cell_type": "markdown",
   "metadata": {},
   "source": [
    "> TODO: your answer here."
   ]
  },
  {
   "cell_type": "markdown",
   "metadata": {},
   "source": [
    "## Q1.3\n",
    "\n",
    "### <span style=\"color:red\"> Questions: </span> Qu’est-ce que cette résolution peut impliquer en termes de qualité de recalage:\n",
    "- ### dans le plan d'une coupe?\n",
    "- ### dans le plan orthogonal à toutes les coupes?"
   ]
  },
  {
   "cell_type": "markdown",
   "metadata": {},
   "source": [
    "> TODO: your answer here."
   ]
  },
  {
   "cell_type": "markdown",
   "metadata": {},
   "source": [
    "***\n",
    "\n",
    "# <span style=\"color:brown\"> 2) Séquence stabilisée"
   ]
  },
  {
   "cell_type": "markdown",
   "metadata": {},
   "source": [
    "## Q2.1 \n",
    "\n",
    "On observe dans un premier temps les images déformées après recalage, pour la stratégie [t → t − 1] (`pairwise`):\n",
    "\n",
    "<table><tr>\n",
    "<td> 03a_pairwise_unsmooth </td>\n",
    "<td> 03b_pairwise_smooth </td>\n",
    "<td> 03c_pairwise_verysmooth </td>\n",
    "</tr>\n",
    "    <tr>\n",
    "<td> <img src=\"figures/Stack_03a_static.gif\" style=\"width:400px;\"/> </td>\n",
    "<td> <img src=\"figures/Stack_03b_static.gif\" style=\"width:400px;\"/> </td>\n",
    "<td> <img src=\"figures/Stack_03c_static.gif\" style=\"width:400px;\"/> </td>\n",
    "</tr></table>\n",
    "\n",
    "### <span style=\"color:red\"> Questions: </span> \n",
    "- ### Si le recalage mettait parfaitement en correspondance les images, à quoi devrait-on s’attendre ?\n",
    "- ### Résumez ce que vous observez pour chacune des trois variantes de recalage, notamment en fin de contraction et à la fin du cycle."
   ]
  },
  {
   "cell_type": "markdown",
   "metadata": {},
   "source": [
    "> TODO: your answer here."
   ]
  },
  {
   "cell_type": "markdown",
   "metadata": {},
   "source": [
    "## Q2.2 \n",
    "\n",
    "De même, on observe les images déformées après recalage avec la stratégie [t → 0] (`0t`):\n",
    "\n",
    "<table><tr>\n",
    "<td> 04a_0t_unsmooth </td>\n",
    "<td> 04b_0t_smooth </td>\n",
    "<td> 04c_0t_verysmooth </td>\n",
    "</tr>\n",
    "    <tr>\n",
    "<td> <img src=\"figures/Stack_04a_static.gif\" style=\"width:400px;\"/> </td>\n",
    "<td> <img src=\"figures/Stack_04b_static.gif\" style=\"width:400px;\"/> </td>\n",
    "<td> <img src=\"figures/Stack_04c_static.gif\" style=\"width:400px;\"/> </td>\n",
    "</tr></table>\n",
    "\n",
    "### <span style=\"color:red\"> Questions: </span>\n",
    "- ### Résumez ce que vous observez pour chacune des trois variantes de recalage, notamment en fin de contraction et à la fin du cycle.\n",
    "- ### Quelles différences voyez-vous avec le schéma `pairwise` précédent?\n",
    "- ### Pouvait-on s'attendre à certains de ces résultats?"
   ]
  },
  {
   "cell_type": "markdown",
   "metadata": {},
   "source": [
    "> TODO: your answer here."
   ]
  },
  {
   "cell_type": "markdown",
   "metadata": {},
   "source": [
    "## Q2.3\n",
    "\n",
    "**Remarque**: Même si les animations ci-dessus correspondent à une seule coupe 2D, n'oubliez pas que nous travaillons sur des données 3D !\n",
    "\n",
    "### <span style=\"color:red\"> Instruction: </span>  Chargez les images concernées dans Python (données originales et images après recalage) à l'aide du code ci-dessous:"
   ]
  },
  {
   "cell_type": "code",
   "execution_count": 6,
   "metadata": {},
   "outputs": [
    {
     "name": "stdout",
     "output_type": "stream",
     "text": [
      "Data correctly loaded !\n"
     ]
    }
   ],
   "source": [
    "mat_contents = sio.loadmat(\"dataset/OUTPUT_READING.mat\")\n",
    "\n",
    "if len(mat_contents.keys()) != 21:\n",
    "    raise Exception('Error in loading data')\n",
    "else:\n",
    "    print('Data correctly loaded !')\n",
    "    \n",
    "names_IMGSEQ = ['OUT_SEQ_3a','OUT_SEQ_3b','OUT_SEQ_3c','OUT_SEQ_4a','OUT_SEQ_4b','OUT_SEQ_4c']"
   ]
  },
  {
   "cell_type": "markdown",
   "metadata": {},
   "source": [
    "Si vous souhaitez travailler sur la séquence `3a_unsmooth`:"
   ]
  },
  {
   "cell_type": "code",
   "execution_count": 41,
   "metadata": {},
   "outputs": [
    {
     "name": "stdout",
     "output_type": "stream",
     "text": [
      "(110, 100, 13, 30)\n"
     ]
    }
   ],
   "source": [
    "### for example, to access \"OUT_SEQ_3a\":\n",
    "tmp = mat_contents[names_IMGSEQ[0]]\n",
    "print(tmp.shape)"
   ]
  },
  {
   "cell_type": "markdown",
   "metadata": {},
   "source": [
    "### <span style=\"color:red\"> Question: </span> A quoi correspondent les dimensions retournées par ce code?"
   ]
  },
  {
   "cell_type": "markdown",
   "metadata": {},
   "source": [
    "> TODO: your answer here."
   ]
  },
  {
   "cell_type": "markdown",
   "metadata": {},
   "source": [
    "## Q2.4\n",
    "\n",
    "### <span style=\"color:red\"> Exercice: </span>  \n",
    "\n",
    "- ### Calculez la “sum-of-squared-differences” entre l'image recalée au temps `t` et au temps `0`, pour chacune des 6 stratégies de recalage.\n",
    "\n",
    "- ### Plottez l’évolution de ces différences le long du cycle (6 courbes à tracer).\n",
    "\n",
    "**Remarque:** vous pouvez automatiser la création de votre graphique à l'aide d'une boucle `for` et de la variable `names_IMGSEQ`."
   ]
  },
  {
   "cell_type": "code",
   "execution_count": 44,
   "metadata": {},
   "outputs": [],
   "source": [
    "### TODO: your code here (don't forget to add comments when necessary)."
   ]
  },
  {
   "cell_type": "markdown",
   "metadata": {},
   "source": [
    "### <span style=\"color:red\"> Question: </span> Cela confirme-t-il vos observations des questions Q2.1 et Q2.2 ?"
   ]
  },
  {
   "cell_type": "markdown",
   "metadata": {},
   "source": [
    "> TODO: your answer here."
   ]
  },
  {
   "cell_type": "markdown",
   "metadata": {},
   "source": [
    "## Q2.5\n",
    "\n",
    "Les animations ci-dessous représentent l'évolution en chaque pixel des différences entre l'image au temps `t` et l'image au temps `0` (pour les 6 stratégies de recalage):\n",
    "\n",
    "<table><tr>\n",
    "<td> 03a_pairwise_unsmooth </td>\n",
    "<td> 03b_pairwise_smooth </td>\n",
    "<td> 03c_pairwise_verysmooth </td>\n",
    "</tr>\n",
    "    <tr>\n",
    "<td> <img src=\"figures/Stack_03a_SSD.gif\" style=\"width:400px;\"/> </td>\n",
    "<td> <img src=\"figures/Stack_03b_SSD.gif\" style=\"width:400px;\"/> </td>\n",
    "<td> <img src=\"figures/Stack_03c_SSD.gif\" style=\"width:400px;\"/> </td>\n",
    "</tr></table>\n",
    "\n",
    "<table><tr>\n",
    "<td> 04a_0t_unsmooth </td>\n",
    "<td> 04b_0t_smooth </td>\n",
    "<td> 04c_0t_verysmooth </td>\n",
    "</tr>\n",
    "    <tr>\n",
    "<td> <img src=\"figures/Stack_04a_SSD.gif\" style=\"width:400px;\"/> </td>\n",
    "<td> <img src=\"figures/Stack_04b_SSD.gif\" style=\"width:400px;\"/> </td>\n",
    "<td> <img src=\"figures/Stack_04c_SSD.gif\" style=\"width:400px;\"/> </td>\n",
    "</tr></table>\n",
    "\n",
    "### <span style=\"color:red\"> Question: </span>  Commentez qualitativement ces animations en les reliant à vos observations précédentes."
   ]
  },
  {
   "cell_type": "markdown",
   "metadata": {},
   "source": [
    "> TODO: your answer here."
   ]
  },
  {
   "cell_type": "markdown",
   "metadata": {},
   "source": [
    "### Q2.6 \n",
    "\n",
    "### <span style=\"color:red\"> Question: </span> A quel terme de l’énergie minimisée lors du recalage ces observations correspondent-elles? Que faut-il regarder d'autre pour décider du meilleur recalage?"
   ]
  },
  {
   "cell_type": "markdown",
   "metadata": {},
   "source": [
    "> TODO: your answer here."
   ]
  },
  {
   "cell_type": "markdown",
   "metadata": {},
   "source": [
    "***\n",
    "\n",
    "# <span style=\"color:brown\"> 3) Maillage propagé\n",
    "    \n",
    "On dispose de segmentations du coeur faites au début du cycle, qui ont été propagées le long de\n",
    "la séquence à partir des champs de déplacement issus du recalage."
   ]
  },
  {
   "cell_type": "markdown",
   "metadata": {},
   "source": [
    "## Q3.1\n",
    "\n",
    "Les animations ci-dessous représentent l'évolution d'une segmentation 3D de l'image au temps 0, propagée en chaque instant de la séquence en appliquant la transformation estimée par le recalage (pour les 6 stratégies de recalage):\n",
    "\n",
    "\n",
    "<table><tr>\n",
    "<td> 03a_pairwise_unsmooth </td>\n",
    "</tr>\n",
    "    <tr>\n",
    "<td> <img src=\"figures/Stack_03a_MESH.gif\" style=\"width:800px;\"/> </td>\n",
    "</tr></table>\n",
    "\n",
    "<table><tr>\n",
    "<td> 03b_pairwise_smooth </td>\n",
    "</tr>\n",
    "    <tr>\n",
    "<td> <img src=\"figures/Stack_03b_MESH.gif\" style=\"width:800px;\"/> </td>\n",
    "</tr></table>\n",
    "\n",
    "<table><tr>\n",
    "<td> 03c_pairwise_verysmooth </td>\n",
    "</tr>\n",
    "    <tr>\n",
    "<td> <img src=\"figures/Stack_03c_MESH.gif\" style=\"width:800px;\"/> </td>\n",
    "</tr></table>\n",
    "\n",
    "<table><tr>\n",
    "<td> 04a_0t_unsmooth </td>\n",
    "</tr>\n",
    "    <tr>\n",
    "<td> <img src=\"figures/Stack_04a_MESH.gif\" style=\"width:800px;\"/> </td>\n",
    "</tr></table>\n",
    "\n",
    "<table><tr>\n",
    "<td> 04b_0t_smooth </td>\n",
    "</tr>\n",
    "    <tr>\n",
    "<td> <img src=\"figures/Stack_04b_MESH.gif\" style=\"width:800px;\"/> </td>\n",
    "</tr></table>\n",
    "\n",
    "<table><tr>\n",
    "<td> 04c_0t_verysmooth </td>\n",
    "</tr>\n",
    "    <tr>\n",
    "<td> <img src=\"figures/Stack_04c_MESH.gif\" style=\"width:800px;\"/> </td>\n",
    "</tr></table>\n",
    "\n",
    "\n",
    "### <span style=\"color:red\"> Question: </span>  Commentez la qualité du suivi le long de la séquence, et si le mouvement vous paraı̂t réaliste."
   ]
  },
  {
   "cell_type": "markdown",
   "metadata": {},
   "source": [
    "> TODO: your answer here."
   ]
  },
  {
   "cell_type": "markdown",
   "metadata": {},
   "source": [
    "## Q3.2 \n",
    "\n",
    "Comme précédemment, voici un exemple vous permettant de récupérer les coordonnées 3D de chaque point du maillage cardiaque (composé de 15021 points), propagé le long de la séquence (ici, la séquence `3a_unsmooth`):"
   ]
  },
  {
   "cell_type": "code",
   "execution_count": 45,
   "metadata": {},
   "outputs": [
    {
     "name": "stdout",
     "output_type": "stream",
     "text": [
      "(15021, 3, 30)\n"
     ]
    }
   ],
   "source": [
    "names_MESHSEQ = ['OUT_MESHSEQ_3a','OUT_MESHSEQ_3b','OUT_MESHSEQ_3c','OUT_MESHSEQ_4a','OUT_MESHSEQ_4b','OUT_MESHSEQ_4c']\n",
    "\n",
    "### for example, to access \"OUT_SEQ_3a\":\n",
    "tmp = mat_contents[names_MESHSEQ[0]]\n",
    "print(tmp.shape)"
   ]
  },
  {
   "cell_type": "markdown",
   "metadata": {},
   "source": [
    "### <span style=\"color:red\"> Exercice: </span>  \n",
    "\n",
    "- ### Calculez le déplacement de chaque point du maillage (la différence entre la position à l’instant t et l’instant 0, c’est-à-dire un vecteur 3D en chaque point),\n",
    "\n",
    "- ### Calculez la norme de ce vecteur en chaque point, \n",
    "\n",
    "- ### Enfin, plottez sa moyenne sur l’ensemble des points, au cours du cycle, pour chacune des méthodes (6 courbes à tracer).\n",
    "\n",
    "**Remarque:** vous pouvez également automatiser la création de votre graphique à l'aide d'une boucle `for` et de la variable `names_MESHSEQ`."
   ]
  },
  {
   "cell_type": "code",
   "execution_count": 46,
   "metadata": {},
   "outputs": [],
   "source": [
    "### TODO: your code here (don't forget to add comments when necessary)."
   ]
  },
  {
   "cell_type": "markdown",
   "metadata": {},
   "source": [
    "### <span style=\"color:red\"> Question: </span>  \n",
    "- ### Cela correspond-t-il à vos observations de la Partie 2? \n",
    "- ### Cela correspond-t-il à vos observations de la question Q3.1?\n",
    "- ### Cela est-il en accord avec le fonctionnement théorique du coeur ?\n"
   ]
  },
  {
   "cell_type": "markdown",
   "metadata": {},
   "source": [
    "> TODO: your answer here."
   ]
  },
  {
   "cell_type": "markdown",
   "metadata": {},
   "source": [
    "## Q3.3 \n",
    "\n",
    "Les champs de déplacement calculés à chaque instant sont stockés dans des fichiers `.vtk`. Voici une capture d'écran indiquant la taille d'un fichier contenant le champ de déplacement, et de l'image originale correspondante.\n",
    "\n",
    "<img src=\"figures/FileSize.png\" style=\"width:800px;\"/>\n",
    "\n",
    "### <span style=\"color:red\"> Question: </span>  Quelle relation y-a-t-il entre la taille de ces fichiers? Est-ce logique?"
   ]
  },
  {
   "cell_type": "markdown",
   "metadata": {},
   "source": [
    "> TODO: your answer here."
   ]
  },
  {
   "cell_type": "markdown",
   "metadata": {},
   "source": [
    "## Q3.4 \n",
    "\n",
    "L'animation ci-dessous représente une visualisation `glyph` du champ de déplacement le long de la séquence:\n",
    "\n",
    "<img src=\"figures/3Dglyph.gif\" style=\"width:800px;\"/>\n",
    "\n",
    "### <span style=\"color:red\"> Question: </span>  \n",
    "\n",
    "- ### A laquelle des 6 stratégies de recalage cette animation correspond-t-elle?\n",
    "\n",
    "- ### Les flèches dans le plan de la coupe vont elle toujours dans le bon sens du mouvement apparent? Pourquoi? Pourquoi ce type de vue 2D peut-être trompeur pour notre problème?"
   ]
  },
  {
   "cell_type": "markdown",
   "metadata": {},
   "source": [
    "> TODO: your answer here."
   ]
  },
  {
   "cell_type": "markdown",
   "metadata": {},
   "source": [
    "### Q3.5\n",
    "\n",
    "### <span style=\"color:red\"> Question: </span> A quel terme de l’énergie minimisée lors du recalage ces observations correspondent-elles ?"
   ]
  },
  {
   "cell_type": "markdown",
   "metadata": {},
   "source": [
    "> TODO: your answer here."
   ]
  },
  {
   "cell_type": "markdown",
   "metadata": {},
   "source": [
    "***\n",
    "\n",
    "# <span style=\"color:brown\"> 4) Conclusions"
   ]
  },
  {
   "cell_type": "markdown",
   "metadata": {},
   "source": [
    "### Q4.1\n",
    "\n",
    "### <span style=\"color:red\"> Question: </span> (détaillez vos réponses)\n",
    "- ### Faites une synthèse critique de l’ensemble de vos observations. \n",
    "- ### Quelle stratégie serait la plus appropriée? Pourquoi?"
   ]
  },
  {
   "cell_type": "markdown",
   "metadata": {},
   "source": [
    "> TODO: your answer here."
   ]
  },
  {
   "cell_type": "markdown",
   "metadata": {},
   "source": [
    "### Q4.2\n",
    "\n",
    "### <span style=\"color:red\"> Question: </span> Quels aspects pourraient être améliorés ? Comment ?\n"
   ]
  },
  {
   "cell_type": "markdown",
   "metadata": {},
   "source": [
    "> TODO: your answer here."
   ]
  },
  {
   "cell_type": "code",
   "execution_count": null,
   "metadata": {},
   "outputs": [],
   "source": []
  }
 ],
 "metadata": {
  "kernelspec": {
   "display_name": "Python 3",
   "language": "python",
   "name": "python3"
  },
  "language_info": {
   "codemirror_mode": {
    "name": "ipython",
    "version": 3
   },
   "file_extension": ".py",
   "mimetype": "text/x-python",
   "name": "python",
   "nbconvert_exporter": "python",
   "pygments_lexer": "ipython3",
   "version": "3.9.7"
  }
 },
 "nbformat": 4,
 "nbformat_minor": 1
}
